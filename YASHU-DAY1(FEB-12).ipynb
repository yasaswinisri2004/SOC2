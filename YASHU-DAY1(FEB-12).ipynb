{
 "cells": [
  {
   "cell_type": "code",
   "execution_count": 1,
   "id": "e96d50d9",
   "metadata": {},
   "outputs": [
    {
     "data": {
      "text/plain": [
       "array([1, 3, 5, 7])"
      ]
     },
     "execution_count": 1,
     "metadata": {},
     "output_type": "execute_result"
    }
   ],
   "source": [
    "import numpy as np\n",
    "l=[1,2,3,4,5]\n",
    "s={5,6,7,8,9}\n",
    "d=(1,3,5,7)\n",
    "ar1=np.array(l)\n",
    "ar2=np.array(s)\n",
    "ar3=np.array(d)\n",
    "ar1\n",
    "ar2\n",
    "ar3"
   ]
  },
  {
   "cell_type": "code",
   "execution_count": 2,
   "id": "9f8a5191",
   "metadata": {},
   "outputs": [
    {
     "name": "stdout",
     "output_type": "stream",
     "text": [
      "[1 3 5 7]\n"
     ]
    }
   ],
   "source": [
    "print(ar3)"
   ]
  },
  {
   "cell_type": "code",
   "execution_count": 3,
   "id": "b19905dd",
   "metadata": {},
   "outputs": [
    {
     "name": "stdout",
     "output_type": "stream",
     "text": [
      "yashu\n",
      "<__main__.c1 object at 0x00000219D1120C70>\n"
     ]
    }
   ],
   "source": [
    "class c1:\n",
    "    name=\"yashu\"\n",
    "    age=20\n",
    "obj=c1()\n",
    "print(obj.name)\n",
    "print(obj)"
   ]
  },
  {
   "cell_type": "code",
   "execution_count": 9,
   "id": "4dfe4d93",
   "metadata": {},
   "outputs": [
    {
     "name": "stdout",
     "output_type": "stream",
     "text": [
      "{1, 2, 3, (2, 3, 4)}\n"
     ]
    }
   ],
   "source": [
    "s1={1,2,3,(2,3,4)}\n",
    "print(s1)"
   ]
  },
  {
   "cell_type": "code",
   "execution_count": 10,
   "id": "4b23ff3e",
   "metadata": {},
   "outputs": [
    {
     "data": {
      "text/plain": [
       "dtype('<U5')"
      ]
     },
     "execution_count": 10,
     "metadata": {},
     "output_type": "execute_result"
    }
   ],
   "source": [
    "t1=\"hello\"\n",
    "ar1=np.array(t1)\n",
    "ar1.dtype"
   ]
  },
  {
   "cell_type": "code",
   "execution_count": 12,
   "id": "2b563ff2",
   "metadata": {},
   "outputs": [
    {
     "data": {
      "text/plain": [
       "numpy.ndarray"
      ]
     },
     "execution_count": 12,
     "metadata": {},
     "output_type": "execute_result"
    }
   ],
   "source": [
    "type(ar1)"
   ]
  },
  {
   "cell_type": "code",
   "execution_count": 20,
   "id": "9aca5248",
   "metadata": {},
   "outputs": [
    {
     "data": {
      "text/plain": [
       "[1, 2, 3]"
      ]
     },
     "execution_count": 20,
     "metadata": {},
     "output_type": "execute_result"
    }
   ],
   "source": [
    "s={1,2,3}\n",
    "list(s)"
   ]
  },
  {
   "cell_type": "code",
   "execution_count": 18,
   "id": "c49566c4",
   "metadata": {},
   "outputs": [
    {
     "data": {
      "text/plain": [
       "(1, 2, 3)"
      ]
     },
     "execution_count": 18,
     "metadata": {},
     "output_type": "execute_result"
    }
   ],
   "source": [
    "tuple(s)"
   ]
  },
  {
   "cell_type": "code",
   "execution_count": 22,
   "id": "076225cb",
   "metadata": {},
   "outputs": [
    {
     "data": {
      "text/plain": [
       "[1, 2, 3, 4, 5, 1, 2, 3, 4, 5]"
      ]
     },
     "execution_count": 22,
     "metadata": {},
     "output_type": "execute_result"
    }
   ],
   "source": [
    "# to double the array\n",
    "arr=[1,2,3,4,5]\n",
    "arr*2"
   ]
  },
  {
   "cell_type": "code",
   "execution_count": 23,
   "id": "55fbfcca",
   "metadata": {},
   "outputs": [
    {
     "data": {
      "text/plain": [
       "array({5, 6, 7, 8, 9}, dtype=object)"
      ]
     },
     "execution_count": 23,
     "metadata": {},
     "output_type": "execute_result"
    }
   ],
   "source": [
    "arr2=[1,2,3,45,67]\n",
    "np_ar=np.array(ar2)\n",
    "np_ar"
   ]
  },
  {
   "cell_type": "code",
   "execution_count": 24,
   "id": "d0396a4d",
   "metadata": {},
   "outputs": [
    {
     "data": {
      "text/plain": [
       "array([{5, 6, 7, 8, 9}, 78], dtype=object)"
      ]
     },
     "execution_count": 24,
     "metadata": {},
     "output_type": "execute_result"
    }
   ],
   "source": [
    "#To add element to the array\n",
    "new_ar=np.append(np_ar,78)\n",
    "new_ar"
   ]
  },
  {
   "cell_type": "code",
   "execution_count": 27,
   "id": "c15fb379",
   "metadata": {},
   "outputs": [
    {
     "name": "stdout",
     "output_type": "stream",
     "text": [
      "[{5, 6, 7, 8, 9} 23 45 67 77]\n"
     ]
    }
   ],
   "source": [
    "#To add multiple elements to the array\n",
    "new_ar=np.append(np_ar,[23,45,67,77])\n",
    "new_ar\n",
    "print(new_ar)"
   ]
  },
  {
   "cell_type": "code",
   "execution_count": 32,
   "id": "8bdd8c04",
   "metadata": {},
   "outputs": [
    {
     "data": {
      "text/plain": [
       "array([ 1,  2, 12,  3,  4,  5,  6,  7,  8])"
      ]
     },
     "execution_count": 32,
     "metadata": {},
     "output_type": "execute_result"
    }
   ],
   "source": [
    "#To insert based on index value to add ele into array\n",
    "#syntax-->np.insert(array_to_be_modified,index_position,value)\n",
    "np_ar=[1,2,3,4,5,6,7,8]\n",
    "new_ar=np.insert(np_ar, 2, 12)\n",
    "new_ar\n"
   ]
  },
  {
   "cell_type": "code",
   "execution_count": 33,
   "id": "29346791",
   "metadata": {},
   "outputs": [
    {
     "data": {
      "text/plain": [
       "array([ 1,  2,  3,  4, 22, 11,  5,  6,  7,  8])"
      ]
     },
     "execution_count": 33,
     "metadata": {},
     "output_type": "execute_result"
    }
   ],
   "source": [
    "#To insert multiple values into array\n",
    "#np.insert(array_to_be_modified,index_position,value in list or tuple..)\n",
    "new_ar=np.insert(np_ar, 4,(22,11))\n",
    "new_ar\n"
   ]
  },
  {
   "cell_type": "code",
   "execution_count": 39,
   "id": "7960d4e4",
   "metadata": {},
   "outputs": [
    {
     "data": {
      "text/plain": [
       "array([ 1.  ,  2.3 ,  3.45, 44.  ,  5.  ])"
      ]
     },
     "execution_count": 39,
     "metadata": {},
     "output_type": "execute_result"
    }
   ],
   "source": [
    "#To delete an ele from an array\n",
    "nr=np.delete(np_ar,np.where(np_ar==2))\n",
    "nr"
   ]
  },
  {
   "cell_type": "code",
   "execution_count": 38,
   "id": "571237ad",
   "metadata": {},
   "outputs": [
    {
     "data": {
      "text/plain": [
       "array([ 1.  ,  2.3 ,  3.45, 44.  ,  5.  ])"
      ]
     },
     "execution_count": 38,
     "metadata": {},
     "output_type": "execute_result"
    }
   ],
   "source": [
    "np_ar=[1,2.3,3.45,44,5]\n",
    "nr=np.delete(np_ar,np.where(np_ar==3.45))\n",
    "nr"
   ]
  },
  {
   "cell_type": "code",
   "execution_count": 40,
   "id": "6ae5f1d1",
   "metadata": {},
   "outputs": [
    {
     "data": {
      "text/plain": [
       "array([ 1.,  5., 44.])"
      ]
     },
     "execution_count": 40,
     "metadata": {},
     "output_type": "execute_result"
    }
   ],
   "source": [
    "#to delete no of values in an array\n",
    "nr=np.setdiff1d(np_ar,[2.3,3.45])\n",
    "nr\n"
   ]
  },
  {
   "cell_type": "code",
   "execution_count": 41,
   "id": "f7005317",
   "metadata": {},
   "outputs": [
    {
     "data": {
      "text/plain": [
       "array([ 2.3 ,  3.45, 44.  ,  5.  ])"
      ]
     },
     "execution_count": 41,
     "metadata": {},
     "output_type": "execute_result"
    }
   ],
   "source": [
    "#To delete based on index position\n",
    "nr=np.delete(np_ar,0)\n",
    "nr"
   ]
  },
  {
   "cell_type": "code",
   "execution_count": 44,
   "id": "5e551a40",
   "metadata": {},
   "outputs": [
    {
     "name": "stdout",
     "output_type": "stream",
     "text": [
      "[10 20 30 40 50]\n"
     ]
    }
   ],
   "source": [
    "#filters in numpy array\n",
    "#To print even numbers from array\n",
    "list=[1,5,10,15,20,25,30,35,40,45,50]\n",
    "n=np.array(list)\n",
    "even=n[n%2==0]\n",
    "print(even)"
   ]
  },
  {
   "cell_type": "code",
   "execution_count": 45,
   "id": "85303c47",
   "metadata": {},
   "outputs": [
    {
     "data": {
      "text/plain": [
       "array([ 1,  5, 10, 15, 20, 25])"
      ]
     },
     "execution_count": 45,
     "metadata": {},
     "output_type": "execute_result"
    }
   ],
   "source": [
    "#to print values<30\n",
    "n<30\n",
    "n[n<30]"
   ]
  },
  {
   "cell_type": "code",
   "execution_count": 46,
   "id": "978f6ed9",
   "metadata": {},
   "outputs": [
    {
     "data": {
      "text/plain": [
       "[array([False, False, False, False, False, False, False, False, False,\n",
       "        False, False])]"
      ]
     },
     "execution_count": 46,
     "metadata": {},
     "output_type": "execute_result"
    }
   ],
   "source": [
    "#To print values <20 and >50\n",
    "#for and operation using &\n",
    "#for or operation using !\n",
    "n=[(n<20)&(n>50)]\n",
    "n"
   ]
  },
  {
   "cell_type": "code",
   "execution_count": 49,
   "id": "fead39cf",
   "metadata": {},
   "outputs": [
    {
     "data": {
      "text/plain": [
       "[60]"
      ]
     },
     "execution_count": 49,
     "metadata": {},
     "output_type": "execute_result"
    }
   ],
   "source": [
    "#To replace value in an array\n",
    "n[n==30]=60\n",
    "n"
   ]
  },
  {
   "cell_type": "code",
   "execution_count": 50,
   "id": "0cb5e4d6",
   "metadata": {},
   "outputs": [
    {
     "data": {
      "text/plain": [
       "array([0., 0., 0., 0., 0., 0.])"
      ]
     },
     "execution_count": 50,
     "metadata": {},
     "output_type": "execute_result"
    }
   ],
   "source": [
    "#To create 1d array full of 0\n",
    "np.zeros(6)"
   ]
  },
  {
   "cell_type": "code",
   "execution_count": 51,
   "id": "9b9074ca",
   "metadata": {},
   "outputs": [
    {
     "data": {
      "text/plain": [
       "array([[0., 0.],\n",
       "       [0., 0.]])"
      ]
     },
     "execution_count": 51,
     "metadata": {},
     "output_type": "execute_result"
    }
   ],
   "source": [
    "#To create 2d array full of 0\n",
    "#syntax-->np.zeros([no_of_rows,no_of_col])\n",
    "np.zeros([2,2])"
   ]
  },
  {
   "cell_type": "code",
   "execution_count": 52,
   "id": "d2f83e8e",
   "metadata": {},
   "outputs": [
    {
     "data": {
      "text/plain": [
       "array([1., 1., 1., 1., 1., 1.])"
      ]
     },
     "execution_count": 52,
     "metadata": {},
     "output_type": "execute_result"
    }
   ],
   "source": [
    "#To create array full of 1\n",
    "np.ones(6)"
   ]
  },
  {
   "cell_type": "code",
   "execution_count": 53,
   "id": "e8401e33",
   "metadata": {},
   "outputs": [
    {
     "data": {
      "text/plain": [
       "array([[1., 1.],\n",
       "       [1., 1.]])"
      ]
     },
     "execution_count": 53,
     "metadata": {},
     "output_type": "execute_result"
    }
   ],
   "source": [
    "#To create 2d array full of 1\n",
    "#syntax-->np.ones([no_of_rows,no_of_col])\n",
    "np.ones([2,2])"
   ]
  },
  {
   "cell_type": "code",
   "execution_count": 61,
   "id": "ba871967",
   "metadata": {},
   "outputs": [
    {
     "data": {
      "text/plain": [
       "dtype('O')"
      ]
     },
     "execution_count": 61,
     "metadata": {},
     "output_type": "execute_result"
    }
   ],
   "source": [
    "#Type convert ele in array\n",
    "#To find numpy data type of ele present in array-->dtype\n",
    "arr2=[1,2,3,45,67]\n",
    "np_ar=np.array(ar2)\n",
    "#type(np_ar)\n",
    "np_ar.dtype\n"
   ]
  },
  {
   "cell_type": "code",
   "execution_count": 62,
   "id": "5106334e",
   "metadata": {},
   "outputs": [
    {
     "data": {
      "text/plain": [
       "array([[0, 0, 0, 0],\n",
       "       [0, 0, 0, 0]], dtype=int16)"
      ]
     },
     "execution_count": 62,
     "metadata": {},
     "output_type": "execute_result"
    }
   ],
   "source": [
    "#We can convert values in numpy array into various bits\n",
    "#they are\n",
    "#int8,int16,int32,int64\n",
    "#float16,flaot32,float64\n",
    "#complex64,complex128\n",
    "#uint16,uint32\n",
    "np_ar=np.zeros([2,4],dtype='int16')\n",
    "np_ar\n"
   ]
  },
  {
   "cell_type": "code",
   "execution_count": 64,
   "id": "11d08e43",
   "metadata": {},
   "outputs": [
    {
     "data": {
      "text/plain": [
       "array([[0, 0, 0, 0],\n",
       "       [0, 0, 0, 0]], dtype=uint16)"
      ]
     },
     "execution_count": 64,
     "metadata": {},
     "output_type": "execute_result"
    }
   ],
   "source": [
    "np_ar=np.zeros([2,4],dtype='uint16')\n",
    "np_ar\n"
   ]
  },
  {
   "cell_type": "code",
   "execution_count": 65,
   "id": "75e5b421",
   "metadata": {},
   "outputs": [
    {
     "data": {
      "text/plain": [
       "array([[0, 0, 0, 0],\n",
       "       [0, 0, 0, 0]], dtype=int16)"
      ]
     },
     "execution_count": 65,
     "metadata": {},
     "output_type": "execute_result"
    }
   ],
   "source": [
    "np.int16(np_ar)"
   ]
  },
  {
   "cell_type": "code",
   "execution_count": null,
   "id": "f66bf208",
   "metadata": {},
   "outputs": [],
   "source": []
  }
 ],
 "metadata": {
  "kernelspec": {
   "display_name": "Python 3 (ipykernel)",
   "language": "python",
   "name": "python3"
  },
  "language_info": {
   "codemirror_mode": {
    "name": "ipython",
    "version": 3
   },
   "file_extension": ".py",
   "mimetype": "text/x-python",
   "name": "python",
   "nbconvert_exporter": "python",
   "pygments_lexer": "ipython3",
   "version": "3.10.9"
  }
 },
 "nbformat": 4,
 "nbformat_minor": 5
}
