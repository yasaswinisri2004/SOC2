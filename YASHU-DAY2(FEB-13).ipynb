{
 "cells": [
  {
   "cell_type": "code",
   "execution_count": 1,
   "id": "ec407e1c",
   "metadata": {},
   "outputs": [],
   "source": [
    "import numpy as np\n",
    "ar1=np.arange(13)"
   ]
  },
  {
   "cell_type": "code",
   "execution_count": 2,
   "id": "094e3f64",
   "metadata": {},
   "outputs": [
    {
     "data": {
      "text/plain": [
       "13"
      ]
     },
     "execution_count": 2,
     "metadata": {},
     "output_type": "execute_result"
    }
   ],
   "source": [
    "ar1\n",
    "len(ar1)"
   ]
  },
  {
   "cell_type": "code",
   "execution_count": 4,
   "id": "feab1a6a",
   "metadata": {},
   "outputs": [
    {
     "data": {
      "text/plain": [
       "array([[ 0],\n",
       "       [ 1],\n",
       "       [ 2],\n",
       "       [ 3],\n",
       "       [ 4],\n",
       "       [ 5],\n",
       "       [ 6],\n",
       "       [ 7],\n",
       "       [ 8],\n",
       "       [ 9],\n",
       "       [10],\n",
       "       [11],\n",
       "       [12]])"
      ]
     },
     "execution_count": 4,
     "metadata": {},
     "output_type": "execute_result"
    }
   ],
   "source": [
    "reshaped_array=ar1.reshape(13,1)\n",
    "reshaped_array"
   ]
  },
  {
   "cell_type": "code",
   "execution_count": 5,
   "id": "1522c37d",
   "metadata": {},
   "outputs": [
    {
     "data": {
      "text/plain": [
       "array([[1., 0., 0., 0., 0.],\n",
       "       [0., 1., 0., 0., 0.],\n",
       "       [0., 0., 1., 0., 0.],\n",
       "       [0., 0., 0., 1., 0.],\n",
       "       [0., 0., 0., 0., 1.]])"
      ]
     },
     "execution_count": 5,
     "metadata": {},
     "output_type": "execute_result"
    }
   ],
   "source": [
    "np.eye(5)\n"
   ]
  },
  {
   "cell_type": "code",
   "execution_count": 6,
   "id": "f479d3e5",
   "metadata": {},
   "outputs": [
    {
     "data": {
      "text/plain": [
       "array([[1.+0.j, 0.+0.j, 0.+0.j, 0.+0.j, 0.+0.j],\n",
       "       [0.+0.j, 1.+0.j, 0.+0.j, 0.+0.j, 0.+0.j],\n",
       "       [0.+0.j, 0.+0.j, 1.+0.j, 0.+0.j, 0.+0.j],\n",
       "       [0.+0.j, 0.+0.j, 0.+0.j, 1.+0.j, 0.+0.j],\n",
       "       [0.+0.j, 0.+0.j, 0.+0.j, 0.+0.j, 1.+0.j]])"
      ]
     },
     "execution_count": 6,
     "metadata": {},
     "output_type": "execute_result"
    }
   ],
   "source": [
    "np.identity(5, dtype=complex)"
   ]
  },
  {
   "cell_type": "code",
   "execution_count": 7,
   "id": "9872312b",
   "metadata": {},
   "outputs": [
    {
     "data": {
      "text/plain": [
       "array([[ 0,  1,  2,  3,  4],\n",
       "       [ 5,  6,  7,  8,  9],\n",
       "       [10, 11, 12, 13, 14],\n",
       "       [15, 16, 17, 18, 19],\n",
       "       [20, 21, 22, 23, 24]])"
      ]
     },
     "execution_count": 7,
     "metadata": {},
     "output_type": "execute_result"
    }
   ],
   "source": [
    "ar2=np.arange(25).reshape(5,5)\n",
    "ar2"
   ]
  },
  {
   "cell_type": "code",
   "execution_count": 8,
   "id": "a08a7492",
   "metadata": {},
   "outputs": [
    {
     "data": {
      "text/plain": [
       "(5, 5)"
      ]
     },
     "execution_count": 8,
     "metadata": {},
     "output_type": "execute_result"
    }
   ],
   "source": [
    "ar2.shape"
   ]
  },
  {
   "cell_type": "code",
   "execution_count": 3,
   "id": "59cff5d2",
   "metadata": {},
   "outputs": [],
   "source": [
    "#to get ar2[rows,columns,step]\n",
    "#ar2[row_start:row_end, col_start,col_end,step]\n"
   ]
  },
  {
   "cell_type": "code",
   "execution_count": 10,
   "id": "6fecdae4",
   "metadata": {},
   "outputs": [
    {
     "data": {
      "text/plain": [
       "array([[ 0,  1,  2,  3,  4],\n",
       "       [ 5,  6,  7,  8,  9],\n",
       "       [10, 11, 12, 13, 14]])"
      ]
     },
     "execution_count": 10,
     "metadata": {},
     "output_type": "execute_result"
    }
   ],
   "source": [
    "ar2[0:3]"
   ]
  },
  {
   "cell_type": "code",
   "execution_count": 11,
   "id": "403efdd2",
   "metadata": {},
   "outputs": [
    {
     "data": {
      "text/plain": [
       "array([[ 1,  2,  3],\n",
       "       [ 6,  7,  8],\n",
       "       [11, 12, 13]])"
      ]
     },
     "execution_count": 11,
     "metadata": {},
     "output_type": "execute_result"
    }
   ],
   "source": [
    "ar2[0:3, 1:4]"
   ]
  },
  {
   "cell_type": "code",
   "execution_count": 12,
   "id": "06168005",
   "metadata": {},
   "outputs": [
    {
     "data": {
      "text/plain": [
       "array([[ 0,  1,  2,  3,  4],\n",
       "       [ 5,  6,  7,  8,  9],\n",
       "       [10, 11, 12, 13, 14],\n",
       "       [15, 16, 17, 18, 19],\n",
       "       [20, 21, 22, 23, 24]])"
      ]
     },
     "execution_count": 12,
     "metadata": {},
     "output_type": "execute_result"
    }
   ],
   "source": [
    "ar2"
   ]
  },
  {
   "cell_type": "code",
   "execution_count": 14,
   "id": "20011f75",
   "metadata": {},
   "outputs": [
    {
     "data": {
      "text/plain": [
       "array([[ 0,  1,  2,  3,  4],\n",
       "       [ 5,  6,  7,  8,  9],\n",
       "       [10, 11, 12, 13, 14]])"
      ]
     },
     "execution_count": 14,
     "metadata": {},
     "output_type": "execute_result"
    }
   ],
   "source": [
    "ar2[0:3]"
   ]
  },
  {
   "cell_type": "code",
   "execution_count": 15,
   "id": "4664bdbc",
   "metadata": {},
   "outputs": [
    {
     "data": {
      "text/plain": [
       "array([[ 6,  7],\n",
       "       [11, 12]])"
      ]
     },
     "execution_count": 15,
     "metadata": {},
     "output_type": "execute_result"
    }
   ],
   "source": [
    "ar2[1:3,1:3]"
   ]
  },
  {
   "cell_type": "code",
   "execution_count": 16,
   "id": "d7255a63",
   "metadata": {},
   "outputs": [
    {
     "data": {
      "text/plain": [
       "array([[ 6,  7],\n",
       "       [11, 12]])"
      ]
     },
     "execution_count": 16,
     "metadata": {},
     "output_type": "execute_result"
    }
   ],
   "source": [
    "ar2[-4:-2,-4:-2]"
   ]
  },
  {
   "cell_type": "code",
   "execution_count": 17,
   "id": "f6b8fb90",
   "metadata": {},
   "outputs": [
    {
     "data": {
      "text/plain": [
       "array([[ 5,  6,  7,  8,  9],\n",
       "       [10, 11, 12, 13, 14]])"
      ]
     },
     "execution_count": 17,
     "metadata": {},
     "output_type": "execute_result"
    }
   ],
   "source": [
    "ar2[-4:-2]"
   ]
  },
  {
   "cell_type": "code",
   "execution_count": 18,
   "id": "720d78f6",
   "metadata": {},
   "outputs": [
    {
     "data": {
      "text/plain": [
       "array([[ 0,  1,  2,  3,  4],\n",
       "       [ 5,  6,  7,  8,  9],\n",
       "       [10, 11, 12, 13, 14],\n",
       "       [15, 16, 17, 18, 19],\n",
       "       [20, 21, 22, 23, 24]])"
      ]
     },
     "execution_count": 18,
     "metadata": {},
     "output_type": "execute_result"
    }
   ],
   "source": [
    "ar2"
   ]
  },
  {
   "cell_type": "code",
   "execution_count": 19,
   "id": "72c7c7e8",
   "metadata": {},
   "outputs": [],
   "source": [
    "ar3=np.arange(50).reshape(5, 10)\n",
    "#tasks\n"
   ]
  },
  {
   "cell_type": "code",
   "execution_count": 20,
   "id": "d4b26ae0",
   "metadata": {},
   "outputs": [
    {
     "data": {
      "text/plain": [
       "1225"
      ]
     },
     "execution_count": 20,
     "metadata": {},
     "output_type": "execute_result"
    }
   ],
   "source": [
    "#linspace()\n",
    "ar3\n",
    "np.sum(ar3)"
   ]
  },
  {
   "cell_type": "code",
   "execution_count": 21,
   "id": "a000813d",
   "metadata": {},
   "outputs": [
    {
     "data": {
      "text/plain": [
       "array([100, 105, 110, 115, 120, 125, 130, 135, 140, 145])"
      ]
     },
     "execution_count": 21,
     "metadata": {},
     "output_type": "execute_result"
    }
   ],
   "source": [
    "np.sum(ar3,axis=0) #to add based on column wise axis=0\n",
    "#BASED ON row wise axis=1"
   ]
  },
  {
   "cell_type": "code",
   "execution_count": 22,
   "id": "1926cc8d",
   "metadata": {},
   "outputs": [],
   "source": [
    "#mean --> average\n",
    "#median -->centre value\n",
    "#mode -->max num of repeated element\n",
    "#variance-->median/total num of ele\n",
    "#std-->sq root of variance"
   ]
  },
  {
   "cell_type": "code",
   "execution_count": 26,
   "id": "0b339b02",
   "metadata": {},
   "outputs": [
    {
     "data": {
      "text/plain": [
       "array([1.        , 1.08163265, 1.16326531, 1.24489796, 1.32653061,\n",
       "       1.40816327, 1.48979592, 1.57142857, 1.65306122, 1.73469388,\n",
       "       1.81632653, 1.89795918, 1.97959184, 2.06122449, 2.14285714,\n",
       "       2.2244898 , 2.30612245, 2.3877551 , 2.46938776, 2.55102041,\n",
       "       2.63265306, 2.71428571, 2.79591837, 2.87755102, 2.95918367,\n",
       "       3.04081633, 3.12244898, 3.20408163, 3.28571429, 3.36734694,\n",
       "       3.44897959, 3.53061224, 3.6122449 , 3.69387755, 3.7755102 ,\n",
       "       3.85714286, 3.93877551, 4.02040816, 4.10204082, 4.18367347,\n",
       "       4.26530612, 4.34693878, 4.42857143, 4.51020408, 4.59183673,\n",
       "       4.67346939, 4.75510204, 4.83673469, 4.91836735, 5.        ])"
      ]
     },
     "execution_count": 26,
     "metadata": {},
     "output_type": "execute_result"
    }
   ],
   "source": [
    "#l inspace()-->it is used to print the evenly seperated pointed \n",
    "#b/w 2 range of values\n",
    "#-->linspace(start,end,num of values to be displayed)\n",
    "np.linspace(1,5)"
   ]
  },
  {
   "cell_type": "code",
   "execution_count": 27,
   "id": "aade4e76",
   "metadata": {},
   "outputs": [
    {
     "data": {
      "text/plain": [
       "array([ 1,  4,  7, 10])"
      ]
     },
     "execution_count": 27,
     "metadata": {},
     "output_type": "execute_result"
    }
   ],
   "source": [
    "np.linspace(1,10,4,dtype=int)"
   ]
  },
  {
   "cell_type": "code",
   "execution_count": 28,
   "id": "1550a5a7",
   "metadata": {},
   "outputs": [
    {
     "data": {
      "text/plain": [
       "(array([12.        , 13.63636364, 15.27272727, 16.90909091, 18.54545455,\n",
       "        20.18181818, 21.81818182, 23.45454545, 25.09090909, 26.72727273,\n",
       "        28.36363636, 30.        ]),\n",
       " 1.6363636363636365)"
      ]
     },
     "execution_count": 28,
     "metadata": {},
     "output_type": "execute_result"
    }
   ],
   "source": [
    "np.linspace(12,30,12,retstep=True)"
   ]
  },
  {
   "cell_type": "code",
   "execution_count": 29,
   "id": "0f75e90f",
   "metadata": {},
   "outputs": [
    {
     "data": {
      "text/plain": [
       "array([26, 27, 20])"
      ]
     },
     "execution_count": 29,
     "metadata": {},
     "output_type": "execute_result"
    }
   ],
   "source": [
    "#random module\n",
    "#to generate random values b/w two ranges\n",
    "#np.random.randint(start,end,num_of_values)\n",
    "np.random.randint(20,30,3)\n"
   ]
  },
  {
   "cell_type": "code",
   "execution_count": 30,
   "id": "9de474b9",
   "metadata": {},
   "outputs": [
    {
     "data": {
      "text/plain": [
       "array([0.94114138, 0.09031891, 0.75425685, 0.92573228])"
      ]
     },
     "execution_count": 30,
     "metadata": {},
     "output_type": "execute_result"
    }
   ],
   "source": [
    "#rand()-->\n",
    "#to get the randomly generated values from 0 to 1,based on\n",
    "#uniform distribution\n",
    "np.random.rand(4)"
   ]
  },
  {
   "cell_type": "code",
   "execution_count": 6,
   "id": "8def575c",
   "metadata": {
    "scrolled": true
   },
   "outputs": [
    {
     "data": {
      "text/plain": [
       "array([ 2.02291006,  0.71797451, -0.6180291 , -0.07867794])"
      ]
     },
     "execution_count": 6,
     "metadata": {},
     "output_type": "execute_result"
    }
   ],
   "source": [
    "#rand()-->\n",
    "#to get the randomly generated values from 0 to 1,based on\n",
    "#Normalised distribution\n",
    "import numpy as np\n",
    "np.random.randn(4)\n"
   ]
  },
  {
   "cell_type": "code",
   "execution_count": 8,
   "id": "776fddc4",
   "metadata": {},
   "outputs": [
    {
     "data": {
      "text/plain": [
       "0"
      ]
     },
     "execution_count": 8,
     "metadata": {},
     "output_type": "execute_result"
    }
   ],
   "source": [
    "ar3=np.arange(50).reshape(5, 10)\n",
    "ar3.min()"
   ]
  },
  {
   "cell_type": "raw",
   "id": "e528604a",
   "metadata": {},
   "source": []
  },
  {
   "cell_type": "code",
   "execution_count": 9,
   "id": "e3671b39",
   "metadata": {},
   "outputs": [
    {
     "data": {
      "text/plain": [
       "49"
      ]
     },
     "execution_count": 9,
     "metadata": {},
     "output_type": "execute_result"
    }
   ],
   "source": [
    "ar3.max()"
   ]
  },
  {
   "cell_type": "code",
   "execution_count": 10,
   "id": "832e1b19",
   "metadata": {},
   "outputs": [
    {
     "data": {
      "text/plain": [
       "[[0, 1, 2, 3, 4, 5, 6, 7, 8, 9],\n",
       " [10, 11, 12, 13, 14, 15, 16, 17, 18, 19],\n",
       " [20, 21, 22, 23, 24, 25, 26, 27, 28, 29],\n",
       " [30, 31, 32, 33, 34, 35, 36, 37, 38, 39],\n",
       " [40, 41, 42, 43, 44, 45, 46, 47, 48, 49]]"
      ]
     },
     "execution_count": 10,
     "metadata": {},
     "output_type": "execute_result"
    }
   ],
   "source": [
    "ar3.tolist()"
   ]
  },
  {
   "cell_type": "code",
   "execution_count": 11,
   "id": "5dcc2c58",
   "metadata": {},
   "outputs": [
    {
     "name": "stdout",
     "output_type": "stream",
     "text": [
      "3\n"
     ]
    }
   ],
   "source": [
    "# to find index of min values\n",
    "l1=[56,89,90,67,45]\n",
    "print(l1.index(67))"
   ]
  },
  {
   "cell_type": "code",
   "execution_count": 16,
   "id": "f88027a6",
   "metadata": {},
   "outputs": [
    {
     "name": "stdout",
     "output_type": "stream",
     "text": [
      "4\n",
      "2\n"
     ]
    }
   ],
   "source": [
    "l1=[56,89,90,67,45]\n",
    "np1=np.array(l1)\n",
    "print(np1.argmin()) #argmin() -->to find the min values index position in an array\n",
    "print(np1.argmax()) #argmax() -->to find the max values index position in an array"
   ]
  },
  {
   "cell_type": "code",
   "execution_count": 17,
   "id": "4d8a41b4",
   "metadata": {},
   "outputs": [
    {
     "data": {
      "text/plain": [
       "array([56, 89, 90, 67, 45])"
      ]
     },
     "execution_count": 17,
     "metadata": {},
     "output_type": "execute_result"
    }
   ],
   "source": [
    "np1"
   ]
  },
  {
   "cell_type": "code",
   "execution_count": 18,
   "id": "70ec8e47",
   "metadata": {},
   "outputs": [
    {
     "data": {
      "text/plain": [
       "array([-0.61127369,  1.68582537, -1.99520041,  1.65231726,  1.61977519])"
      ]
     },
     "execution_count": 18,
     "metadata": {},
     "output_type": "execute_result"
    }
   ],
   "source": [
    "np.sin(np1)\n",
    "np.cos(np1)\n",
    "np.tan(np1)\n"
   ]
  },
  {
   "cell_type": "code",
   "execution_count": 19,
   "id": "82169e87",
   "metadata": {},
   "outputs": [
    {
     "data": {
      "text/plain": [
       "array([-1.91735803,  1.16269686,  1.11857241, -1.16887977,  1.17522136])"
      ]
     },
     "execution_count": 19,
     "metadata": {},
     "output_type": "execute_result"
    }
   ],
   "source": [
    "1/np.sin(np1)"
   ]
  },
  {
   "cell_type": "code",
   "execution_count": 20,
   "id": "e91b42e8",
   "metadata": {},
   "outputs": [
    {
     "data": {
      "text/plain": [
       "array([-1.63592842,  0.59318125, -0.50120278,  0.60521065,  0.61736962])"
      ]
     },
     "execution_count": 20,
     "metadata": {},
     "output_type": "execute_result"
    }
   ],
   "source": [
    "np.cos(np1)/np.sin(np1)"
   ]
  },
  {
   "cell_type": "code",
   "execution_count": 23,
   "id": "308ed863",
   "metadata": {},
   "outputs": [
    {
     "data": {
      "text/plain": [
       "32"
      ]
     },
     "execution_count": 23,
     "metadata": {},
     "output_type": "execute_result"
    }
   ],
   "source": [
    "# task-1 ->Write python code for the below logic\n",
    "np2=np.array([1,2,3])\n",
    "np3=np.array([4,5,6])\n",
    "#(1*4)+(2*5)+(3*6)=4+10+18 => 32\n",
    "np1=np2*np3\n",
    "np.sum(np1)"
   ]
  },
  {
   "cell_type": "code",
   "execution_count": 26,
   "id": "fc42e0f7",
   "metadata": {},
   "outputs": [
    {
     "data": {
      "text/plain": [
       "32"
      ]
     },
     "execution_count": 26,
     "metadata": {},
     "output_type": "execute_result"
    }
   ],
   "source": [
    "np2=np.array([1,2,3])\n",
    "np3=np.array([4,5,6])\n",
    "np1=np2*np3\n",
    "np.sum(np1)"
   ]
  },
  {
   "cell_type": "code",
   "execution_count": 30,
   "id": "4d982e39",
   "metadata": {},
   "outputs": [
    {
     "name": "stderr",
     "output_type": "stream",
     "text": [
      "C:\\Users\\dell\\AppData\\Local\\Temp\\ipykernel_11620\\2373865938.py:3: DeprecationWarning: tostring() is deprecated. Use tobytes() instead.\n",
      "  fname.tostring()\n"
     ]
    },
    {
     "data": {
      "text/plain": [
       "b's\\x00\\x00\\x00i\\x00\\x00\\x00d\\x00\\x00\\x00f\\x00\\x00\\x00n\\x00\\x00\\x001\\x00\\x00\\x00f\\x00\\x00\\x00n\\x00\\x00\\x002\\x00\\x00\\x00'"
      ]
     },
     "execution_count": 30,
     "metadata": {},
     "output_type": "execute_result"
    }
   ],
   "source": [
    "fname=np.array([\"sid\",\"fn1\",\"fn2\"])\n",
    "lname=np.array(['t',\"ln1\",\"ln2\"])\n",
    "fname.tostring()"
   ]
  },
  {
   "cell_type": "code",
   "execution_count": 31,
   "id": "779f0da4",
   "metadata": {},
   "outputs": [
    {
     "data": {
      "text/plain": [
       "1"
      ]
     },
     "execution_count": 31,
     "metadata": {},
     "output_type": "execute_result"
    }
   ],
   "source": [
    "np2=np.array([1,2,3,8])\n",
    "np3=np.array([4,5,6])\n",
    "len1=len(np2)\n",
    "len2=len(np3)\n",
    "diff=abs(len1-len2)\n",
    "diff"
   ]
  },
  {
   "cell_type": "code",
   "execution_count": 36,
   "id": "0e52ac2a",
   "metadata": {},
   "outputs": [
    {
     "name": "stdout",
     "output_type": "stream",
     "text": [
      "[4 5 6 1 1]\n"
     ]
    },
    {
     "data": {
      "text/plain": [
       "43"
      ]
     },
     "execution_count": 36,
     "metadata": {},
     "output_type": "execute_result"
    }
   ],
   "source": [
    "np2=np.array([1,2,3,8,3])\n",
    "np3=np.array([4,5,6])\n",
    "len1=len(np2)\n",
    "len2=len(np3)\n",
    "diff=abs(len1-len2)\n",
    "for val in range(diff):\n",
    "     np3=np.append(np3,1)\n",
    "print(np3)\n",
    "np.sum(np2*np3)"
   ]
  },
  {
   "cell_type": "code",
   "execution_count": 37,
   "id": "6d62fab9",
   "metadata": {},
   "outputs": [
    {
     "data": {
      "text/plain": [
       "array([ 1., 34., 56., 78., nan, nan])"
      ]
     },
     "execution_count": 37,
     "metadata": {},
     "output_type": "execute_result"
    }
   ],
   "source": [
    "np1=np.array([1,34,56,78,np.nan,np.nan])\n",
    "np1"
   ]
  },
  {
   "cell_type": "code",
   "execution_count": 38,
   "id": "c6be50f0",
   "metadata": {},
   "outputs": [
    {
     "data": {
      "text/plain": [
       "array([nan, nan])"
      ]
     },
     "execution_count": 38,
     "metadata": {},
     "output_type": "execute_result"
    }
   ],
   "source": [
    "np1[np.isnan(np1)]"
   ]
  },
  {
   "cell_type": "code",
   "execution_count": 39,
   "id": "869d2e05",
   "metadata": {},
   "outputs": [
    {
     "data": {
      "text/plain": [
       "array([ 1., 34., 56., 78.])"
      ]
     },
     "execution_count": 39,
     "metadata": {},
     "output_type": "execute_result"
    }
   ],
   "source": [
    "np1[~np.isnan(np1)]"
   ]
  },
  {
   "cell_type": "code",
   "execution_count": 40,
   "id": "a5753d08",
   "metadata": {},
   "outputs": [
    {
     "data": {
      "text/plain": [
       "43"
      ]
     },
     "execution_count": 40,
     "metadata": {},
     "output_type": "execute_result"
    }
   ],
   "source": [
    "np.dot(np2,np3)"
   ]
  },
  {
   "cell_type": "code",
   "execution_count": 41,
   "id": "63b80b59",
   "metadata": {},
   "outputs": [],
   "source": [
    "import pandas as pd\n",
    "labels=['a','b','c']\n",
    "my_data=[10,20,30]\n",
    "arr=np.array(my_data)\n",
    "d={'a':100,'b':200,'c':300}\n"
   ]
  },
  {
   "cell_type": "code",
   "execution_count": 43,
   "id": "0c136daf",
   "metadata": {},
   "outputs": [
    {
     "data": {
      "text/plain": [
       "pandas.core.series.Series"
      ]
     },
     "execution_count": 43,
     "metadata": {},
     "output_type": "execute_result"
    }
   ],
   "source": [
    "type(pd.Series(my_data))"
   ]
  },
  {
   "cell_type": "code",
   "execution_count": 44,
   "id": "2d143592",
   "metadata": {},
   "outputs": [
    {
     "data": {
      "text/plain": [
       "a    10\n",
       "b    20\n",
       "c    30\n",
       "dtype: int64"
      ]
     },
     "execution_count": 44,
     "metadata": {},
     "output_type": "execute_result"
    }
   ],
   "source": [
    "#series with labels\n",
    "pd.Series(data=my_data,index=labels)"
   ]
  },
  {
   "cell_type": "code",
   "execution_count": 46,
   "id": "49ee8a6e",
   "metadata": {
    "scrolled": true
   },
   "outputs": [
    {
     "data": {
      "text/plain": [
       "0    <built-in function print>\n",
       "1      <built-in function len>\n",
       "2      <built-in function sum>\n",
       "dtype: object"
      ]
     },
     "execution_count": 46,
     "metadata": {},
     "output_type": "execute_result"
    }
   ],
   "source": [
    "pd.Series(data=[print,len,sum])"
   ]
  },
  {
   "cell_type": "code",
   "execution_count": 56,
   "id": "73dbcc86",
   "metadata": {},
   "outputs": [
    {
     "data": {
      "text/plain": [
       "USA       1\n",
       "INDIA     2\n",
       "CANADA    3\n",
       "UK        4\n",
       "EGYPT     5\n",
       "dtype: int64"
      ]
     },
     "execution_count": 56,
     "metadata": {},
     "output_type": "execute_result"
    }
   ],
   "source": [
    "ser1=pd.Series([1,2,3,4,5],['USA','INDIA','CANADA','UK','EGYPT'])\n",
    "ser1"
   ]
  },
  {
   "cell_type": "code",
   "execution_count": 57,
   "id": "0f17977a",
   "metadata": {},
   "outputs": [
    {
     "data": {
      "text/plain": [
       "USA       1\n",
       "INDIA     2\n",
       "CANADA    3\n",
       "dtype: int64"
      ]
     },
     "execution_count": 57,
     "metadata": {},
     "output_type": "execute_result"
    }
   ],
   "source": [
    "ser1[0:3]"
   ]
  },
  {
   "cell_type": "code",
   "execution_count": 58,
   "id": "7b525beb",
   "metadata": {},
   "outputs": [
    {
     "data": {
      "text/plain": [
       "1"
      ]
     },
     "execution_count": 58,
     "metadata": {},
     "output_type": "execute_result"
    }
   ],
   "source": [
    "ser1['USA']"
   ]
  },
  {
   "cell_type": "code",
   "execution_count": 59,
   "id": "1989f2cd",
   "metadata": {},
   "outputs": [],
   "source": [
    "ser2=pd.Series([5,6,7,8,],['USA','BRAZIL','CANADA','UK'])"
   ]
  },
  {
   "cell_type": "code",
   "execution_count": 60,
   "id": "9037b5ea",
   "metadata": {},
   "outputs": [
    {
     "data": {
      "text/plain": [
       "BRAZIL     NaN\n",
       "CANADA    10.0\n",
       "EGYPT      NaN\n",
       "INDIA      NaN\n",
       "UK        12.0\n",
       "USA        6.0\n",
       "dtype: float64"
      ]
     },
     "execution_count": 60,
     "metadata": {},
     "output_type": "execute_result"
    }
   ],
   "source": [
    "ser1+ser2"
   ]
  },
  {
   "cell_type": "code",
   "execution_count": 61,
   "id": "23a72681",
   "metadata": {},
   "outputs": [],
   "source": [
    "#to createa new data in series\n",
    "ser2['china']=\"duplicate\""
   ]
  },
  {
   "cell_type": "code",
   "execution_count": 62,
   "id": "d14b13c4",
   "metadata": {},
   "outputs": [
    {
     "data": {
      "text/plain": [
       "USA               5\n",
       "BRAZIL            6\n",
       "CANADA            7\n",
       "UK                8\n",
       "china     duplicate\n",
       "dtype: object"
      ]
     },
     "execution_count": 62,
     "metadata": {},
     "output_type": "execute_result"
    }
   ],
   "source": [
    "ser2"
   ]
  },
  {
   "cell_type": "code",
   "execution_count": 63,
   "id": "227bc495",
   "metadata": {},
   "outputs": [
    {
     "data": {
      "text/plain": [
       "BRAZIL            6\n",
       "CANADA            7\n",
       "UK                8\n",
       "china     duplicate\n",
       "dtype: object"
      ]
     },
     "execution_count": 63,
     "metadata": {},
     "output_type": "execute_result"
    }
   ],
   "source": [
    "ser2.drop('USA')"
   ]
  },
  {
   "cell_type": "code",
   "execution_count": 64,
   "id": "fd2ac5c8",
   "metadata": {},
   "outputs": [
    {
     "data": {
      "text/html": [
       "<div>\n",
       "<style scoped>\n",
       "    .dataframe tbody tr th:only-of-type {\n",
       "        vertical-align: middle;\n",
       "    }\n",
       "\n",
       "    .dataframe tbody tr th {\n",
       "        vertical-align: top;\n",
       "    }\n",
       "\n",
       "    .dataframe thead th {\n",
       "        text-align: right;\n",
       "    }\n",
       "</style>\n",
       "<table border=\"1\" class=\"dataframe\">\n",
       "  <thead>\n",
       "    <tr style=\"text-align: right;\">\n",
       "      <th></th>\n",
       "      <th>0</th>\n",
       "      <th>1</th>\n",
       "      <th>2</th>\n",
       "      <th>3</th>\n",
       "    </tr>\n",
       "  </thead>\n",
       "  <tbody>\n",
       "    <tr>\n",
       "      <th>0</th>\n",
       "      <td>-1.126835</td>\n",
       "      <td>-1.413969</td>\n",
       "      <td>1.675303</td>\n",
       "      <td>0.447830</td>\n",
       "    </tr>\n",
       "    <tr>\n",
       "      <th>1</th>\n",
       "      <td>-1.737441</td>\n",
       "      <td>-0.892065</td>\n",
       "      <td>1.801828</td>\n",
       "      <td>0.617703</td>\n",
       "    </tr>\n",
       "    <tr>\n",
       "      <th>2</th>\n",
       "      <td>-0.260873</td>\n",
       "      <td>-1.043290</td>\n",
       "      <td>-0.255787</td>\n",
       "      <td>0.596036</td>\n",
       "    </tr>\n",
       "    <tr>\n",
       "      <th>3</th>\n",
       "      <td>1.936493</td>\n",
       "      <td>1.403567</td>\n",
       "      <td>-0.168346</td>\n",
       "      <td>-0.394199</td>\n",
       "    </tr>\n",
       "    <tr>\n",
       "      <th>4</th>\n",
       "      <td>0.734225</td>\n",
       "      <td>0.986017</td>\n",
       "      <td>0.531420</td>\n",
       "      <td>-1.460707</td>\n",
       "    </tr>\n",
       "  </tbody>\n",
       "</table>\n",
       "</div>"
      ],
      "text/plain": [
       "          0         1         2         3\n",
       "0 -1.126835 -1.413969  1.675303  0.447830\n",
       "1 -1.737441 -0.892065  1.801828  0.617703\n",
       "2 -0.260873 -1.043290 -0.255787  0.596036\n",
       "3  1.936493  1.403567 -0.168346 -0.394199\n",
       "4  0.734225  0.986017  0.531420 -1.460707"
      ]
     },
     "execution_count": 64,
     "metadata": {},
     "output_type": "execute_result"
    }
   ],
   "source": [
    "#dataframes\n",
    "#pd.Dataframes(datas,row_label,col_label)\n",
    "df=pd.DataFrame(np.random.randn(5,4))\n",
    "df"
   ]
  },
  {
   "cell_type": "code",
   "execution_count": 66,
   "id": "dd9873b5",
   "metadata": {},
   "outputs": [
    {
     "data": {
      "text/html": [
       "<div>\n",
       "<style scoped>\n",
       "    .dataframe tbody tr th:only-of-type {\n",
       "        vertical-align: middle;\n",
       "    }\n",
       "\n",
       "    .dataframe tbody tr th {\n",
       "        vertical-align: top;\n",
       "    }\n",
       "\n",
       "    .dataframe thead th {\n",
       "        text-align: right;\n",
       "    }\n",
       "</style>\n",
       "<table border=\"1\" class=\"dataframe\">\n",
       "  <thead>\n",
       "    <tr style=\"text-align: right;\">\n",
       "      <th></th>\n",
       "      <th>W</th>\n",
       "      <th>X</th>\n",
       "      <th>Y</th>\n",
       "      <th>Z</th>\n",
       "    </tr>\n",
       "  </thead>\n",
       "  <tbody>\n",
       "    <tr>\n",
       "      <th>A</th>\n",
       "      <td>-1.575538</td>\n",
       "      <td>0.073751</td>\n",
       "      <td>0.157577</td>\n",
       "      <td>-0.579462</td>\n",
       "    </tr>\n",
       "    <tr>\n",
       "      <th>B</th>\n",
       "      <td>0.295835</td>\n",
       "      <td>-1.239140</td>\n",
       "      <td>0.154500</td>\n",
       "      <td>2.157507</td>\n",
       "    </tr>\n",
       "    <tr>\n",
       "      <th>C</th>\n",
       "      <td>1.804500</td>\n",
       "      <td>-0.882394</td>\n",
       "      <td>-1.132152</td>\n",
       "      <td>0.215636</td>\n",
       "    </tr>\n",
       "    <tr>\n",
       "      <th>D</th>\n",
       "      <td>0.578701</td>\n",
       "      <td>0.681224</td>\n",
       "      <td>-1.144340</td>\n",
       "      <td>-1.658668</td>\n",
       "    </tr>\n",
       "    <tr>\n",
       "      <th>E</th>\n",
       "      <td>-0.136333</td>\n",
       "      <td>0.469563</td>\n",
       "      <td>0.860798</td>\n",
       "      <td>0.355920</td>\n",
       "    </tr>\n",
       "  </tbody>\n",
       "</table>\n",
       "</div>"
      ],
      "text/plain": [
       "          W         X         Y         Z\n",
       "A -1.575538  0.073751  0.157577 -0.579462\n",
       "B  0.295835 -1.239140  0.154500  2.157507\n",
       "C  1.804500 -0.882394 -1.132152  0.215636\n",
       "D  0.578701  0.681224 -1.144340 -1.658668\n",
       "E -0.136333  0.469563  0.860798  0.355920"
      ]
     },
     "execution_count": 66,
     "metadata": {},
     "output_type": "execute_result"
    }
   ],
   "source": [
    "df=pd.DataFrame(np.random.randn(5,4),['A','B','C','D','E'],['W','X','Y','Z'])\n",
    "df"
   ]
  },
  {
   "cell_type": "code",
   "execution_count": 69,
   "id": "c1f63a3e",
   "metadata": {},
   "outputs": [
    {
     "data": {
      "text/plain": [
       "{'col1': [1, 2], 'col2': [3, 4], 'col3': [5, 6]}"
      ]
     },
     "execution_count": 69,
     "metadata": {},
     "output_type": "execute_result"
    }
   ],
   "source": [
    "#to convert data frames into dictionary\n",
    "d=d={\"col1\":[1,2],\"col2\":[3,4],\"col3\":[5,6]}\n",
    "d"
   ]
  },
  {
   "cell_type": "code",
   "execution_count": 70,
   "id": "dbfd4fb1",
   "metadata": {},
   "outputs": [
    {
     "data": {
      "text/plain": [
       "{'col1': [1, 2], 'col2': [3, 4], 'col3': [5, 6]}"
      ]
     },
     "execution_count": 70,
     "metadata": {},
     "output_type": "execute_result"
    }
   ],
   "source": [
    "df=pd.DataFrame(data=d)\n",
    "d"
   ]
  },
  {
   "cell_type": "code",
   "execution_count": 73,
   "id": "6b140c20",
   "metadata": {},
   "outputs": [
    {
     "data": {
      "text/html": [
       "<div>\n",
       "<style scoped>\n",
       "    .dataframe tbody tr th:only-of-type {\n",
       "        vertical-align: middle;\n",
       "    }\n",
       "\n",
       "    .dataframe tbody tr th {\n",
       "        vertical-align: top;\n",
       "    }\n",
       "\n",
       "    .dataframe thead th {\n",
       "        text-align: right;\n",
       "    }\n",
       "</style>\n",
       "<table border=\"1\" class=\"dataframe\">\n",
       "  <thead>\n",
       "    <tr style=\"text-align: right;\">\n",
       "      <th></th>\n",
       "      <th>col1</th>\n",
       "      <th>col2</th>\n",
       "      <th>col3</th>\n",
       "    </tr>\n",
       "  </thead>\n",
       "  <tbody>\n",
       "    <tr>\n",
       "      <th>0</th>\n",
       "      <td>1</td>\n",
       "      <td>3</td>\n",
       "      <td>5</td>\n",
       "    </tr>\n",
       "    <tr>\n",
       "      <th>1</th>\n",
       "      <td>2</td>\n",
       "      <td>4</td>\n",
       "      <td>6</td>\n",
       "    </tr>\n",
       "  </tbody>\n",
       "</table>\n",
       "</div>"
      ],
      "text/plain": [
       "   col1  col2  col3\n",
       "0     1     3     5\n",
       "1     2     4     6"
      ]
     },
     "execution_count": 73,
     "metadata": {},
     "output_type": "execute_result"
    }
   ],
   "source": [
    "df\n"
   ]
  },
  {
   "cell_type": "code",
   "execution_count": 79,
   "id": "9440fefb",
   "metadata": {},
   "outputs": [
    {
     "data": {
      "text/html": [
       "<div>\n",
       "<style scoped>\n",
       "    .dataframe tbody tr th:only-of-type {\n",
       "        vertical-align: middle;\n",
       "    }\n",
       "\n",
       "    .dataframe tbody tr th {\n",
       "        vertical-align: top;\n",
       "    }\n",
       "\n",
       "    .dataframe thead th {\n",
       "        text-align: right;\n",
       "    }\n",
       "</style>\n",
       "<table border=\"1\" class=\"dataframe\">\n",
       "  <thead>\n",
       "    <tr style=\"text-align: right;\">\n",
       "      <th></th>\n",
       "      <th>W</th>\n",
       "      <th>X</th>\n",
       "      <th>Y</th>\n",
       "      <th>Z</th>\n",
       "    </tr>\n",
       "  </thead>\n",
       "  <tbody>\n",
       "    <tr>\n",
       "      <th>A</th>\n",
       "      <td>0.193948</td>\n",
       "      <td>1.046470</td>\n",
       "      <td>1.850980</td>\n",
       "      <td>1.067509</td>\n",
       "    </tr>\n",
       "    <tr>\n",
       "      <th>B</th>\n",
       "      <td>-0.840440</td>\n",
       "      <td>-1.330294</td>\n",
       "      <td>-0.619143</td>\n",
       "      <td>-0.311753</td>\n",
       "    </tr>\n",
       "    <tr>\n",
       "      <th>C</th>\n",
       "      <td>-0.038778</td>\n",
       "      <td>0.281877</td>\n",
       "      <td>-0.393615</td>\n",
       "      <td>-0.718084</td>\n",
       "    </tr>\n",
       "    <tr>\n",
       "      <th>D</th>\n",
       "      <td>0.088000</td>\n",
       "      <td>-1.626824</td>\n",
       "      <td>-0.014460</td>\n",
       "      <td>2.583659</td>\n",
       "    </tr>\n",
       "    <tr>\n",
       "      <th>E</th>\n",
       "      <td>0.676416</td>\n",
       "      <td>-0.757004</td>\n",
       "      <td>-2.165107</td>\n",
       "      <td>-0.165300</td>\n",
       "    </tr>\n",
       "  </tbody>\n",
       "</table>\n",
       "</div>"
      ],
      "text/plain": [
       "          W         X         Y         Z\n",
       "A  0.193948  1.046470  1.850980  1.067509\n",
       "B -0.840440 -1.330294 -0.619143 -0.311753\n",
       "C -0.038778  0.281877 -0.393615 -0.718084\n",
       "D  0.088000 -1.626824 -0.014460  2.583659\n",
       "E  0.676416 -0.757004 -2.165107 -0.165300"
      ]
     },
     "execution_count": 79,
     "metadata": {},
     "output_type": "execute_result"
    }
   ],
   "source": [
    "df=pd.DataFrame(np.random.randn(5,4),['A','B','C','D','E'],['W','X','Y','Z'])\n",
    "df"
   ]
  },
  {
   "cell_type": "code",
   "execution_count": 80,
   "id": "4ea0bc6d",
   "metadata": {},
   "outputs": [
    {
     "data": {
      "text/html": [
       "<div>\n",
       "<style scoped>\n",
       "    .dataframe tbody tr th:only-of-type {\n",
       "        vertical-align: middle;\n",
       "    }\n",
       "\n",
       "    .dataframe tbody tr th {\n",
       "        vertical-align: top;\n",
       "    }\n",
       "\n",
       "    .dataframe thead th {\n",
       "        text-align: right;\n",
       "    }\n",
       "</style>\n",
       "<table border=\"1\" class=\"dataframe\">\n",
       "  <thead>\n",
       "    <tr style=\"text-align: right;\">\n",
       "      <th></th>\n",
       "      <th>A</th>\n",
       "      <th>B</th>\n",
       "      <th>C</th>\n",
       "      <th>D</th>\n",
       "      <th>E</th>\n",
       "    </tr>\n",
       "  </thead>\n",
       "  <tbody>\n",
       "    <tr>\n",
       "      <th>W</th>\n",
       "      <td>0.193948</td>\n",
       "      <td>-0.840440</td>\n",
       "      <td>-0.038778</td>\n",
       "      <td>0.088000</td>\n",
       "      <td>0.676416</td>\n",
       "    </tr>\n",
       "    <tr>\n",
       "      <th>X</th>\n",
       "      <td>1.046470</td>\n",
       "      <td>-1.330294</td>\n",
       "      <td>0.281877</td>\n",
       "      <td>-1.626824</td>\n",
       "      <td>-0.757004</td>\n",
       "    </tr>\n",
       "    <tr>\n",
       "      <th>Y</th>\n",
       "      <td>1.850980</td>\n",
       "      <td>-0.619143</td>\n",
       "      <td>-0.393615</td>\n",
       "      <td>-0.014460</td>\n",
       "      <td>-2.165107</td>\n",
       "    </tr>\n",
       "    <tr>\n",
       "      <th>Z</th>\n",
       "      <td>1.067509</td>\n",
       "      <td>-0.311753</td>\n",
       "      <td>-0.718084</td>\n",
       "      <td>2.583659</td>\n",
       "      <td>-0.165300</td>\n",
       "    </tr>\n",
       "  </tbody>\n",
       "</table>\n",
       "</div>"
      ],
      "text/plain": [
       "          A         B         C         D         E\n",
       "W  0.193948 -0.840440 -0.038778  0.088000  0.676416\n",
       "X  1.046470 -1.330294  0.281877 -1.626824 -0.757004\n",
       "Y  1.850980 -0.619143 -0.393615 -0.014460 -2.165107\n",
       "Z  1.067509 -0.311753 -0.718084  2.583659 -0.165300"
      ]
     },
     "execution_count": 80,
     "metadata": {},
     "output_type": "execute_result"
    }
   ],
   "source": [
    "df.T"
   ]
  },
  {
   "cell_type": "code",
   "execution_count": 81,
   "id": "5f61c9e2",
   "metadata": {},
   "outputs": [
    {
     "data": {
      "text/plain": [
       "Index(['A', 'B', 'C', 'D', 'E'], dtype='object')"
      ]
     },
     "execution_count": 81,
     "metadata": {},
     "output_type": "execute_result"
    }
   ],
   "source": [
    "df.index"
   ]
  },
  {
   "cell_type": "code",
   "execution_count": 82,
   "id": "8db72fcc",
   "metadata": {},
   "outputs": [
    {
     "data": {
      "text/plain": [
       "Index(['W', 'X', 'Y', 'Z'], dtype='object')"
      ]
     },
     "execution_count": 82,
     "metadata": {},
     "output_type": "execute_result"
    }
   ],
   "source": [
    "df.columns"
   ]
  },
  {
   "cell_type": "code",
   "execution_count": 83,
   "id": "15ed694a",
   "metadata": {},
   "outputs": [
    {
     "data": {
      "text/plain": [
       "pandas.core.frame.DataFrame"
      ]
     },
     "execution_count": 83,
     "metadata": {},
     "output_type": "execute_result"
    }
   ],
   "source": [
    "type(df)"
   ]
  },
  {
   "cell_type": "code",
   "execution_count": 84,
   "id": "0ebab61b",
   "metadata": {},
   "outputs": [
    {
     "data": {
      "text/plain": [
       "W    float64\n",
       "X    float64\n",
       "Y    float64\n",
       "Z    float64\n",
       "dtype: object"
      ]
     },
     "execution_count": 84,
     "metadata": {},
     "output_type": "execute_result"
    }
   ],
   "source": [
    "df.dtypes"
   ]
  },
  {
   "cell_type": "code",
   "execution_count": 85,
   "id": "e2c7e3ec",
   "metadata": {},
   "outputs": [
    {
     "name": "stdout",
     "output_type": "stream",
     "text": [
      "<class 'pandas.core.frame.DataFrame'>\n",
      "Index: 5 entries, A to E\n",
      "Data columns (total 4 columns):\n",
      " #   Column  Non-Null Count  Dtype  \n",
      "---  ------  --------------  -----  \n",
      " 0   W       5 non-null      float64\n",
      " 1   X       5 non-null      float64\n",
      " 2   Y       5 non-null      float64\n",
      " 3   Z       5 non-null      float64\n",
      "dtypes: float64(4)\n",
      "memory usage: 372.0+ bytes\n"
     ]
    }
   ],
   "source": [
    "df.info()"
   ]
  },
  {
   "cell_type": "code",
   "execution_count": 86,
   "id": "f85c9065",
   "metadata": {},
   "outputs": [
    {
     "data": {
      "text/plain": [
       "array([[ 0.19394779,  1.04646968,  1.85098015,  1.06750889],\n",
       "       [-0.84043984, -1.33029359, -0.61914278, -0.31175259],\n",
       "       [-0.03877806,  0.28187696, -0.39361467, -0.71808412],\n",
       "       [ 0.08799999, -1.62682407, -0.0144605 ,  2.58365902],\n",
       "       [ 0.6764164 , -0.75700366, -2.16510713, -0.16529996]])"
      ]
     },
     "execution_count": 86,
     "metadata": {},
     "output_type": "execute_result"
    }
   ],
   "source": [
    "df.values"
   ]
  },
  {
   "cell_type": "code",
   "execution_count": 87,
   "id": "d5fc6be1",
   "metadata": {},
   "outputs": [
    {
     "data": {
      "text/plain": [
       "[Index(['A', 'B', 'C', 'D', 'E'], dtype='object'),\n",
       " Index(['W', 'X', 'Y', 'Z'], dtype='object')]"
      ]
     },
     "execution_count": 87,
     "metadata": {},
     "output_type": "execute_result"
    }
   ],
   "source": [
    "df.axes"
   ]
  },
  {
   "cell_type": "code",
   "execution_count": 88,
   "id": "f706aab3",
   "metadata": {},
   "outputs": [
    {
     "data": {
      "text/plain": [
       "2"
      ]
     },
     "execution_count": 88,
     "metadata": {},
     "output_type": "execute_result"
    }
   ],
   "source": [
    "df.ndim"
   ]
  },
  {
   "cell_type": "code",
   "execution_count": 89,
   "id": "0ceac684",
   "metadata": {},
   "outputs": [
    {
     "data": {
      "text/plain": [
       "20"
      ]
     },
     "execution_count": 89,
     "metadata": {},
     "output_type": "execute_result"
    }
   ],
   "source": [
    "df.size"
   ]
  },
  {
   "cell_type": "code",
   "execution_count": 90,
   "id": "8a2e33c8",
   "metadata": {},
   "outputs": [
    {
     "data": {
      "text/html": [
       "<div>\n",
       "<style scoped>\n",
       "    .dataframe tbody tr th:only-of-type {\n",
       "        vertical-align: middle;\n",
       "    }\n",
       "\n",
       "    .dataframe tbody tr th {\n",
       "        vertical-align: top;\n",
       "    }\n",
       "\n",
       "    .dataframe thead th {\n",
       "        text-align: right;\n",
       "    }\n",
       "</style>\n",
       "<table border=\"1\" class=\"dataframe\">\n",
       "  <thead>\n",
       "    <tr style=\"text-align: right;\">\n",
       "      <th></th>\n",
       "      <th>W</th>\n",
       "      <th>X</th>\n",
       "      <th>Y</th>\n",
       "      <th>Z</th>\n",
       "    </tr>\n",
       "  </thead>\n",
       "  <tbody>\n",
       "    <tr>\n",
       "      <th>A</th>\n",
       "      <td>0.193948</td>\n",
       "      <td>1.046470</td>\n",
       "      <td>1.850980</td>\n",
       "      <td>1.067509</td>\n",
       "    </tr>\n",
       "    <tr>\n",
       "      <th>B</th>\n",
       "      <td>-0.840440</td>\n",
       "      <td>-1.330294</td>\n",
       "      <td>-0.619143</td>\n",
       "      <td>-0.311753</td>\n",
       "    </tr>\n",
       "    <tr>\n",
       "      <th>C</th>\n",
       "      <td>-0.038778</td>\n",
       "      <td>0.281877</td>\n",
       "      <td>-0.393615</td>\n",
       "      <td>-0.718084</td>\n",
       "    </tr>\n",
       "    <tr>\n",
       "      <th>D</th>\n",
       "      <td>0.088000</td>\n",
       "      <td>-1.626824</td>\n",
       "      <td>-0.014460</td>\n",
       "      <td>2.583659</td>\n",
       "    </tr>\n",
       "    <tr>\n",
       "      <th>E</th>\n",
       "      <td>0.676416</td>\n",
       "      <td>-0.757004</td>\n",
       "      <td>-2.165107</td>\n",
       "      <td>-0.165300</td>\n",
       "    </tr>\n",
       "  </tbody>\n",
       "</table>\n",
       "</div>"
      ],
      "text/plain": [
       "          W         X         Y         Z\n",
       "A  0.193948  1.046470  1.850980  1.067509\n",
       "B -0.840440 -1.330294 -0.619143 -0.311753\n",
       "C -0.038778  0.281877 -0.393615 -0.718084\n",
       "D  0.088000 -1.626824 -0.014460  2.583659\n",
       "E  0.676416 -0.757004 -2.165107 -0.165300"
      ]
     },
     "execution_count": 90,
     "metadata": {},
     "output_type": "execute_result"
    }
   ],
   "source": [
    "df"
   ]
  },
  {
   "cell_type": "code",
   "execution_count": 92,
   "id": "f9e9c044",
   "metadata": {},
   "outputs": [
    {
     "data": {
      "text/plain": [
       "A    0.193948\n",
       "B   -0.840440\n",
       "C   -0.038778\n",
       "D    0.088000\n",
       "E    0.676416\n",
       "Name: W, dtype: float64"
      ]
     },
     "execution_count": 92,
     "metadata": {},
     "output_type": "execute_result"
    }
   ],
   "source": [
    "df['W']"
   ]
  },
  {
   "cell_type": "code",
   "execution_count": 93,
   "id": "1883c5f9",
   "metadata": {},
   "outputs": [
    {
     "data": {
      "text/plain": [
       "pandas.core.series.Series"
      ]
     },
     "execution_count": 93,
     "metadata": {},
     "output_type": "execute_result"
    }
   ],
   "source": [
    "type(df['W'])"
   ]
  },
  {
   "cell_type": "code",
   "execution_count": 94,
   "id": "dd1c6a8d",
   "metadata": {},
   "outputs": [
    {
     "data": {
      "text/html": [
       "<div>\n",
       "<style scoped>\n",
       "    .dataframe tbody tr th:only-of-type {\n",
       "        vertical-align: middle;\n",
       "    }\n",
       "\n",
       "    .dataframe tbody tr th {\n",
       "        vertical-align: top;\n",
       "    }\n",
       "\n",
       "    .dataframe thead th {\n",
       "        text-align: right;\n",
       "    }\n",
       "</style>\n",
       "<table border=\"1\" class=\"dataframe\">\n",
       "  <thead>\n",
       "    <tr style=\"text-align: right;\">\n",
       "      <th></th>\n",
       "      <th>W</th>\n",
       "      <th>X</th>\n",
       "      <th>Y</th>\n",
       "    </tr>\n",
       "  </thead>\n",
       "  <tbody>\n",
       "    <tr>\n",
       "      <th>A</th>\n",
       "      <td>0.193948</td>\n",
       "      <td>1.046470</td>\n",
       "      <td>1.850980</td>\n",
       "    </tr>\n",
       "    <tr>\n",
       "      <th>B</th>\n",
       "      <td>-0.840440</td>\n",
       "      <td>-1.330294</td>\n",
       "      <td>-0.619143</td>\n",
       "    </tr>\n",
       "    <tr>\n",
       "      <th>C</th>\n",
       "      <td>-0.038778</td>\n",
       "      <td>0.281877</td>\n",
       "      <td>-0.393615</td>\n",
       "    </tr>\n",
       "    <tr>\n",
       "      <th>D</th>\n",
       "      <td>0.088000</td>\n",
       "      <td>-1.626824</td>\n",
       "      <td>-0.014460</td>\n",
       "    </tr>\n",
       "    <tr>\n",
       "      <th>E</th>\n",
       "      <td>0.676416</td>\n",
       "      <td>-0.757004</td>\n",
       "      <td>-2.165107</td>\n",
       "    </tr>\n",
       "  </tbody>\n",
       "</table>\n",
       "</div>"
      ],
      "text/plain": [
       "          W         X         Y\n",
       "A  0.193948  1.046470  1.850980\n",
       "B -0.840440 -1.330294 -0.619143\n",
       "C -0.038778  0.281877 -0.393615\n",
       "D  0.088000 -1.626824 -0.014460\n",
       "E  0.676416 -0.757004 -2.165107"
      ]
     },
     "execution_count": 94,
     "metadata": {},
     "output_type": "execute_result"
    }
   ],
   "source": [
    "#TO ACCESS MULTIPLE COLUMNS\n",
    "df[['W','X','Y']]"
   ]
  },
  {
   "cell_type": "code",
   "execution_count": 96,
   "id": "aa56e078",
   "metadata": {},
   "outputs": [
    {
     "data": {
      "text/html": [
       "<div>\n",
       "<style scoped>\n",
       "    .dataframe tbody tr th:only-of-type {\n",
       "        vertical-align: middle;\n",
       "    }\n",
       "\n",
       "    .dataframe tbody tr th {\n",
       "        vertical-align: top;\n",
       "    }\n",
       "\n",
       "    .dataframe thead th {\n",
       "        text-align: right;\n",
       "    }\n",
       "</style>\n",
       "<table border=\"1\" class=\"dataframe\">\n",
       "  <thead>\n",
       "    <tr style=\"text-align: right;\">\n",
       "      <th></th>\n",
       "      <th>W</th>\n",
       "      <th>X</th>\n",
       "      <th>Y</th>\n",
       "      <th>Z</th>\n",
       "      <th>new</th>\n",
       "    </tr>\n",
       "  </thead>\n",
       "  <tbody>\n",
       "    <tr>\n",
       "      <th>A</th>\n",
       "      <td>0.193948</td>\n",
       "      <td>1.046470</td>\n",
       "      <td>1.850980</td>\n",
       "      <td>1.067509</td>\n",
       "      <td>2.044928</td>\n",
       "    </tr>\n",
       "    <tr>\n",
       "      <th>B</th>\n",
       "      <td>-0.840440</td>\n",
       "      <td>-1.330294</td>\n",
       "      <td>-0.619143</td>\n",
       "      <td>-0.311753</td>\n",
       "      <td>-1.459583</td>\n",
       "    </tr>\n",
       "    <tr>\n",
       "      <th>C</th>\n",
       "      <td>-0.038778</td>\n",
       "      <td>0.281877</td>\n",
       "      <td>-0.393615</td>\n",
       "      <td>-0.718084</td>\n",
       "      <td>-0.432393</td>\n",
       "    </tr>\n",
       "    <tr>\n",
       "      <th>D</th>\n",
       "      <td>0.088000</td>\n",
       "      <td>-1.626824</td>\n",
       "      <td>-0.014460</td>\n",
       "      <td>2.583659</td>\n",
       "      <td>0.073539</td>\n",
       "    </tr>\n",
       "    <tr>\n",
       "      <th>E</th>\n",
       "      <td>0.676416</td>\n",
       "      <td>-0.757004</td>\n",
       "      <td>-2.165107</td>\n",
       "      <td>-0.165300</td>\n",
       "      <td>-1.488691</td>\n",
       "    </tr>\n",
       "  </tbody>\n",
       "</table>\n",
       "</div>"
      ],
      "text/plain": [
       "          W         X         Y         Z       new\n",
       "A  0.193948  1.046470  1.850980  1.067509  2.044928\n",
       "B -0.840440 -1.330294 -0.619143 -0.311753 -1.459583\n",
       "C -0.038778  0.281877 -0.393615 -0.718084 -0.432393\n",
       "D  0.088000 -1.626824 -0.014460  2.583659  0.073539\n",
       "E  0.676416 -0.757004 -2.165107 -0.165300 -1.488691"
      ]
     },
     "execution_count": 96,
     "metadata": {},
     "output_type": "execute_result"
    }
   ],
   "source": [
    "df['new']=df['W']+df['Y']\n",
    "df"
   ]
  },
  {
   "cell_type": "code",
   "execution_count": 97,
   "id": "fcffa5d7",
   "metadata": {},
   "outputs": [
    {
     "data": {
      "text/html": [
       "<div>\n",
       "<style scoped>\n",
       "    .dataframe tbody tr th:only-of-type {\n",
       "        vertical-align: middle;\n",
       "    }\n",
       "\n",
       "    .dataframe tbody tr th {\n",
       "        vertical-align: top;\n",
       "    }\n",
       "\n",
       "    .dataframe thead th {\n",
       "        text-align: right;\n",
       "    }\n",
       "</style>\n",
       "<table border=\"1\" class=\"dataframe\">\n",
       "  <thead>\n",
       "    <tr style=\"text-align: right;\">\n",
       "      <th></th>\n",
       "      <th>W</th>\n",
       "      <th>X</th>\n",
       "      <th>Y</th>\n",
       "      <th>Z</th>\n",
       "    </tr>\n",
       "  </thead>\n",
       "  <tbody>\n",
       "    <tr>\n",
       "      <th>A</th>\n",
       "      <td>0.193948</td>\n",
       "      <td>1.046470</td>\n",
       "      <td>1.850980</td>\n",
       "      <td>1.067509</td>\n",
       "    </tr>\n",
       "    <tr>\n",
       "      <th>B</th>\n",
       "      <td>-0.840440</td>\n",
       "      <td>-1.330294</td>\n",
       "      <td>-0.619143</td>\n",
       "      <td>-0.311753</td>\n",
       "    </tr>\n",
       "    <tr>\n",
       "      <th>C</th>\n",
       "      <td>-0.038778</td>\n",
       "      <td>0.281877</td>\n",
       "      <td>-0.393615</td>\n",
       "      <td>-0.718084</td>\n",
       "    </tr>\n",
       "    <tr>\n",
       "      <th>D</th>\n",
       "      <td>0.088000</td>\n",
       "      <td>-1.626824</td>\n",
       "      <td>-0.014460</td>\n",
       "      <td>2.583659</td>\n",
       "    </tr>\n",
       "    <tr>\n",
       "      <th>E</th>\n",
       "      <td>0.676416</td>\n",
       "      <td>-0.757004</td>\n",
       "      <td>-2.165107</td>\n",
       "      <td>-0.165300</td>\n",
       "    </tr>\n",
       "  </tbody>\n",
       "</table>\n",
       "</div>"
      ],
      "text/plain": [
       "          W         X         Y         Z\n",
       "A  0.193948  1.046470  1.850980  1.067509\n",
       "B -0.840440 -1.330294 -0.619143 -0.311753\n",
       "C -0.038778  0.281877 -0.393615 -0.718084\n",
       "D  0.088000 -1.626824 -0.014460  2.583659\n",
       "E  0.676416 -0.757004 -2.165107 -0.165300"
      ]
     },
     "execution_count": 97,
     "metadata": {},
     "output_type": "execute_result"
    }
   ],
   "source": [
    "df.drop('new',axis=1)"
   ]
  },
  {
   "cell_type": "code",
   "execution_count": 98,
   "id": "d50c25aa",
   "metadata": {},
   "outputs": [
    {
     "data": {
      "text/html": [
       "<div>\n",
       "<style scoped>\n",
       "    .dataframe tbody tr th:only-of-type {\n",
       "        vertical-align: middle;\n",
       "    }\n",
       "\n",
       "    .dataframe tbody tr th {\n",
       "        vertical-align: top;\n",
       "    }\n",
       "\n",
       "    .dataframe thead th {\n",
       "        text-align: right;\n",
       "    }\n",
       "</style>\n",
       "<table border=\"1\" class=\"dataframe\">\n",
       "  <thead>\n",
       "    <tr style=\"text-align: right;\">\n",
       "      <th></th>\n",
       "      <th>W</th>\n",
       "      <th>X</th>\n",
       "      <th>Y</th>\n",
       "      <th>Z</th>\n",
       "    </tr>\n",
       "  </thead>\n",
       "  <tbody>\n",
       "    <tr>\n",
       "      <th>A</th>\n",
       "      <td>0.193948</td>\n",
       "      <td>1.046470</td>\n",
       "      <td>1.850980</td>\n",
       "      <td>1.067509</td>\n",
       "    </tr>\n",
       "    <tr>\n",
       "      <th>B</th>\n",
       "      <td>-0.840440</td>\n",
       "      <td>-1.330294</td>\n",
       "      <td>-0.619143</td>\n",
       "      <td>-0.311753</td>\n",
       "    </tr>\n",
       "    <tr>\n",
       "      <th>C</th>\n",
       "      <td>-0.038778</td>\n",
       "      <td>0.281877</td>\n",
       "      <td>-0.393615</td>\n",
       "      <td>-0.718084</td>\n",
       "    </tr>\n",
       "    <tr>\n",
       "      <th>D</th>\n",
       "      <td>0.088000</td>\n",
       "      <td>-1.626824</td>\n",
       "      <td>-0.014460</td>\n",
       "      <td>2.583659</td>\n",
       "    </tr>\n",
       "    <tr>\n",
       "      <th>E</th>\n",
       "      <td>0.676416</td>\n",
       "      <td>-0.757004</td>\n",
       "      <td>-2.165107</td>\n",
       "      <td>-0.165300</td>\n",
       "    </tr>\n",
       "  </tbody>\n",
       "</table>\n",
       "</div>"
      ],
      "text/plain": [
       "          W         X         Y         Z\n",
       "A  0.193948  1.046470  1.850980  1.067509\n",
       "B -0.840440 -1.330294 -0.619143 -0.311753\n",
       "C -0.038778  0.281877 -0.393615 -0.718084\n",
       "D  0.088000 -1.626824 -0.014460  2.583659\n",
       "E  0.676416 -0.757004 -2.165107 -0.165300"
      ]
     },
     "execution_count": 98,
     "metadata": {},
     "output_type": "execute_result"
    }
   ],
   "source": [
    "df.drop('new',axis=1,inplace=True)\n",
    "df"
   ]
  },
  {
   "cell_type": "code",
   "execution_count": null,
   "id": "b592fc82",
   "metadata": {},
   "outputs": [],
   "source": []
  }
 ],
 "metadata": {
  "kernelspec": {
   "display_name": "Python 3 (ipykernel)",
   "language": "python",
   "name": "python3"
  },
  "language_info": {
   "codemirror_mode": {
    "name": "ipython",
    "version": 3
   },
   "file_extension": ".py",
   "mimetype": "text/x-python",
   "name": "python",
   "nbconvert_exporter": "python",
   "pygments_lexer": "ipython3",
   "version": "3.10.9"
  }
 },
 "nbformat": 4,
 "nbformat_minor": 5
}
